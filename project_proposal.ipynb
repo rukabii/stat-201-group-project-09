{
 "cells": [
  {
   "cell_type": "markdown",
   "id": "4c2e860e-5659-4c2c-a6c4-cc7a103d5126",
   "metadata": {},
   "source": [
    "# \\<Project Proposal: Title\\>"
   ]
  },
  {
   "cell_type": "markdown",
   "id": "55188c32-fe77-49df-8e85-c62b5b4ac073",
   "metadata": {},
   "source": [
    "## Introduction"
   ]
  },
  {
   "cell_type": "markdown",
   "id": "71c786a7-3df0-43f8-a0a0-1575380cd1bb",
   "metadata": {},
   "source": [
    "... introduction starts here"
   ]
  },
  {
   "cell_type": "markdown",
   "id": "2241d73f-d6c5-4b9e-93ed-aae516f87103",
   "metadata": {},
   "source": [
    "## Preliminary Results"
   ]
  },
  {
   "cell_type": "markdown",
   "id": "76969609-b120-4dab-a2da-a2d3f65dca41",
   "metadata": {},
   "source": [
    "... preliminary results here"
   ]
  },
  {
   "cell_type": "code",
   "execution_count": 1,
   "id": "7a8acd3e-9025-4f9a-97a9-945f978b457d",
   "metadata": {
    "tags": []
   },
   "outputs": [
    {
     "name": "stderr",
     "output_type": "stream",
     "text": [
      "── \u001b[1mAttaching core tidyverse packages\u001b[22m ──────────────────────── tidyverse 2.0.0 ──\n",
      "\u001b[32m✔\u001b[39m \u001b[34mdplyr    \u001b[39m 1.1.3     \u001b[32m✔\u001b[39m \u001b[34mreadr    \u001b[39m 2.1.4\n",
      "\u001b[32m✔\u001b[39m \u001b[34mforcats  \u001b[39m 1.0.0     \u001b[32m✔\u001b[39m \u001b[34mstringr  \u001b[39m 1.5.0\n",
      "\u001b[32m✔\u001b[39m \u001b[34mggplot2  \u001b[39m 3.4.3     \u001b[32m✔\u001b[39m \u001b[34mtibble   \u001b[39m 3.2.1\n",
      "\u001b[32m✔\u001b[39m \u001b[34mlubridate\u001b[39m 1.9.2     \u001b[32m✔\u001b[39m \u001b[34mtidyr    \u001b[39m 1.3.0\n",
      "\u001b[32m✔\u001b[39m \u001b[34mpurrr    \u001b[39m 1.0.1     \n",
      "── \u001b[1mConflicts\u001b[22m ────────────────────────────────────────── tidyverse_conflicts() ──\n",
      "\u001b[31m✖\u001b[39m \u001b[34mdplyr\u001b[39m::\u001b[32mfilter()\u001b[39m masks \u001b[34mstats\u001b[39m::filter()\n",
      "\u001b[31m✖\u001b[39m \u001b[34mdplyr\u001b[39m::\u001b[32mlag()\u001b[39m    masks \u001b[34mstats\u001b[39m::lag()\n",
      "\u001b[36mℹ\u001b[39m Use the conflicted package (\u001b[3m\u001b[34m<http://conflicted.r-lib.org/>\u001b[39m\u001b[23m) to force all conflicts to become errors\n",
      "── \u001b[1mAttaching packages\u001b[22m ────────────────────────────────────── tidymodels 1.1.1 ──\n",
      "\n",
      "\u001b[32m✔\u001b[39m \u001b[34mbroom       \u001b[39m 1.0.5     \u001b[32m✔\u001b[39m \u001b[34mrsample     \u001b[39m 1.2.0\n",
      "\u001b[32m✔\u001b[39m \u001b[34mdials       \u001b[39m 1.2.0     \u001b[32m✔\u001b[39m \u001b[34mtune        \u001b[39m 1.1.2\n",
      "\u001b[32m✔\u001b[39m \u001b[34minfer       \u001b[39m 1.0.4     \u001b[32m✔\u001b[39m \u001b[34mworkflows   \u001b[39m 1.1.3\n",
      "\u001b[32m✔\u001b[39m \u001b[34mmodeldata   \u001b[39m 1.2.0     \u001b[32m✔\u001b[39m \u001b[34mworkflowsets\u001b[39m 1.0.1\n",
      "\u001b[32m✔\u001b[39m \u001b[34mparsnip     \u001b[39m 1.1.1     \u001b[32m✔\u001b[39m \u001b[34myardstick   \u001b[39m 1.2.0\n",
      "\u001b[32m✔\u001b[39m \u001b[34mrecipes     \u001b[39m 1.0.8     \n",
      "\n",
      "── \u001b[1mConflicts\u001b[22m ───────────────────────────────────────── tidymodels_conflicts() ──\n",
      "\u001b[31m✖\u001b[39m \u001b[34mscales\u001b[39m::\u001b[32mdiscard()\u001b[39m masks \u001b[34mpurrr\u001b[39m::discard()\n",
      "\u001b[31m✖\u001b[39m \u001b[34mdplyr\u001b[39m::\u001b[32mfilter()\u001b[39m   masks \u001b[34mstats\u001b[39m::filter()\n",
      "\u001b[31m✖\u001b[39m \u001b[34mrecipes\u001b[39m::\u001b[32mfixed()\u001b[39m  masks \u001b[34mstringr\u001b[39m::fixed()\n",
      "\u001b[31m✖\u001b[39m \u001b[34mdplyr\u001b[39m::\u001b[32mlag()\u001b[39m      masks \u001b[34mstats\u001b[39m::lag()\n",
      "\u001b[31m✖\u001b[39m \u001b[34myardstick\u001b[39m::\u001b[32mspec()\u001b[39m masks \u001b[34mreadr\u001b[39m::spec()\n",
      "\u001b[31m✖\u001b[39m \u001b[34mrecipes\u001b[39m::\u001b[32mstep()\u001b[39m   masks \u001b[34mstats\u001b[39m::step()\n",
      "\u001b[34m•\u001b[39m Dig deeper into tidy modeling with R at \u001b[32mhttps://www.tmwr.org\u001b[39m\n",
      "\n",
      "\n",
      "Attaching package: ‘janitor’\n",
      "\n",
      "\n",
      "The following objects are masked from ‘package:stats’:\n",
      "\n",
      "    chisq.test, fisher.test\n",
      "\n",
      "\n"
     ]
    }
   ],
   "source": [
    "library(tidyverse)\n",
    "library(tidymodels)\n",
    "library(janitor)\n",
    "library(infer)"
   ]
  },
  {
   "cell_type": "code",
   "execution_count": 2,
   "id": "1ff6dc26-69e5-4fa4-86e7-768ad5f77964",
   "metadata": {
    "tags": []
   },
   "outputs": [
    {
     "name": "stderr",
     "output_type": "stream",
     "text": [
      "\u001b[1mRows: \u001b[22m\u001b[34m997213\u001b[39m \u001b[1mColumns: \u001b[22m\u001b[34m14\u001b[39m\n",
      "\u001b[36m──\u001b[39m \u001b[1mColumn specification\u001b[22m \u001b[36m────────────────────────────────────────────────────────\u001b[39m\n",
      "\u001b[1mDelimiter:\u001b[22m \",\"\n",
      "\u001b[31mchr\u001b[39m (9): Date Recorded, Town, Address, Property Type, Residential Type, Non ...\n",
      "\u001b[32mdbl\u001b[39m (5): Serial Number, List Year, Assessed Value, Sale Amount, Sales Ratio\n",
      "\n",
      "\u001b[36mℹ\u001b[39m Use `spec()` to retrieve the full column specification for this data.\n",
      "\u001b[36mℹ\u001b[39m Specify the column types or set `show_col_types = FALSE` to quiet this message.\n"
     ]
    },
    {
     "data": {
      "text/html": [
       "<table class=\"dataframe\">\n",
       "<caption>A tibble: 6 × 14</caption>\n",
       "<thead>\n",
       "\t<tr><th scope=col>serial_number</th><th scope=col>list_year</th><th scope=col>date_recorded</th><th scope=col>town</th><th scope=col>address</th><th scope=col>assessed_value</th><th scope=col>sale_amount</th><th scope=col>sales_ratio</th><th scope=col>property_type</th><th scope=col>residential_type</th><th scope=col>non_use_code</th><th scope=col>assessor_remarks</th><th scope=col>opm_remarks</th><th scope=col>location</th></tr>\n",
       "\t<tr><th scope=col>&lt;dbl&gt;</th><th scope=col>&lt;dbl&gt;</th><th scope=col>&lt;chr&gt;</th><th scope=col>&lt;chr&gt;</th><th scope=col>&lt;chr&gt;</th><th scope=col>&lt;dbl&gt;</th><th scope=col>&lt;dbl&gt;</th><th scope=col>&lt;dbl&gt;</th><th scope=col>&lt;chr&gt;</th><th scope=col>&lt;chr&gt;</th><th scope=col>&lt;chr&gt;</th><th scope=col>&lt;chr&gt;</th><th scope=col>&lt;chr&gt;</th><th scope=col>&lt;chr&gt;</th></tr>\n",
       "</thead>\n",
       "<tbody>\n",
       "\t<tr><td>2020348</td><td>2020</td><td>09/13/2021</td><td>Ansonia</td><td>230 WAKELEE AVE      </td><td>150500</td><td> 325000</td><td>0.4630</td><td>Commercial </td><td>NA           </td><td>NA</td><td>NA</td><td>NA</td><td>NA</td></tr>\n",
       "\t<tr><td>  20002</td><td>2020</td><td>10/02/2020</td><td>Ashford</td><td>390 TURNPIKE RD      </td><td>253000</td><td> 430000</td><td>0.5883</td><td>Residential</td><td>Single Family</td><td>NA</td><td>NA</td><td>NA</td><td>NA</td></tr>\n",
       "\t<tr><td> 200212</td><td>2020</td><td>03/09/2021</td><td>Avon   </td><td>5 CHESTNUT DRIVE     </td><td>130400</td><td> 179900</td><td>0.7248</td><td>Residential</td><td>Condo        </td><td>NA</td><td>NA</td><td>NA</td><td>NA</td></tr>\n",
       "\t<tr><td> 200243</td><td>2020</td><td>04/13/2021</td><td>Avon   </td><td>111 NORTHINGTON DRIVE</td><td>619290</td><td> 890000</td><td>0.6958</td><td>Residential</td><td>Single Family</td><td>NA</td><td>NA</td><td>NA</td><td>NA</td></tr>\n",
       "\t<tr><td> 200377</td><td>2020</td><td>07/02/2021</td><td>Avon   </td><td>70 FAR HILLS DRIVE   </td><td>862330</td><td>1447500</td><td>0.5957</td><td>Residential</td><td>Single Family</td><td>NA</td><td>NA</td><td>NA</td><td>NA</td></tr>\n",
       "\t<tr><td> 200109</td><td>2020</td><td>12/09/2020</td><td>Avon   </td><td>57 FAR HILLS DRIVE   </td><td>847520</td><td>1250000</td><td>0.6780</td><td>Residential</td><td>Single Family</td><td>NA</td><td>NA</td><td>NA</td><td>NA</td></tr>\n",
       "</tbody>\n",
       "</table>\n"
      ],
      "text/latex": [
       "A tibble: 6 × 14\n",
       "\\begin{tabular}{llllllllllllll}\n",
       " serial\\_number & list\\_year & date\\_recorded & town & address & assessed\\_value & sale\\_amount & sales\\_ratio & property\\_type & residential\\_type & non\\_use\\_code & assessor\\_remarks & opm\\_remarks & location\\\\\n",
       " <dbl> & <dbl> & <chr> & <chr> & <chr> & <dbl> & <dbl> & <dbl> & <chr> & <chr> & <chr> & <chr> & <chr> & <chr>\\\\\n",
       "\\hline\n",
       "\t 2020348 & 2020 & 09/13/2021 & Ansonia & 230 WAKELEE AVE       & 150500 &  325000 & 0.4630 & Commercial  & NA            & NA & NA & NA & NA\\\\\n",
       "\t   20002 & 2020 & 10/02/2020 & Ashford & 390 TURNPIKE RD       & 253000 &  430000 & 0.5883 & Residential & Single Family & NA & NA & NA & NA\\\\\n",
       "\t  200212 & 2020 & 03/09/2021 & Avon    & 5 CHESTNUT DRIVE      & 130400 &  179900 & 0.7248 & Residential & Condo         & NA & NA & NA & NA\\\\\n",
       "\t  200243 & 2020 & 04/13/2021 & Avon    & 111 NORTHINGTON DRIVE & 619290 &  890000 & 0.6958 & Residential & Single Family & NA & NA & NA & NA\\\\\n",
       "\t  200377 & 2020 & 07/02/2021 & Avon    & 70 FAR HILLS DRIVE    & 862330 & 1447500 & 0.5957 & Residential & Single Family & NA & NA & NA & NA\\\\\n",
       "\t  200109 & 2020 & 12/09/2020 & Avon    & 57 FAR HILLS DRIVE    & 847520 & 1250000 & 0.6780 & Residential & Single Family & NA & NA & NA & NA\\\\\n",
       "\\end{tabular}\n"
      ],
      "text/markdown": [
       "\n",
       "A tibble: 6 × 14\n",
       "\n",
       "| serial_number &lt;dbl&gt; | list_year &lt;dbl&gt; | date_recorded &lt;chr&gt; | town &lt;chr&gt; | address &lt;chr&gt; | assessed_value &lt;dbl&gt; | sale_amount &lt;dbl&gt; | sales_ratio &lt;dbl&gt; | property_type &lt;chr&gt; | residential_type &lt;chr&gt; | non_use_code &lt;chr&gt; | assessor_remarks &lt;chr&gt; | opm_remarks &lt;chr&gt; | location &lt;chr&gt; |\n",
       "|---|---|---|---|---|---|---|---|---|---|---|---|---|---|\n",
       "| 2020348 | 2020 | 09/13/2021 | Ansonia | 230 WAKELEE AVE       | 150500 |  325000 | 0.4630 | Commercial  | NA            | NA | NA | NA | NA |\n",
       "|   20002 | 2020 | 10/02/2020 | Ashford | 390 TURNPIKE RD       | 253000 |  430000 | 0.5883 | Residential | Single Family | NA | NA | NA | NA |\n",
       "|  200212 | 2020 | 03/09/2021 | Avon    | 5 CHESTNUT DRIVE      | 130400 |  179900 | 0.7248 | Residential | Condo         | NA | NA | NA | NA |\n",
       "|  200243 | 2020 | 04/13/2021 | Avon    | 111 NORTHINGTON DRIVE | 619290 |  890000 | 0.6958 | Residential | Single Family | NA | NA | NA | NA |\n",
       "|  200377 | 2020 | 07/02/2021 | Avon    | 70 FAR HILLS DRIVE    | 862330 | 1447500 | 0.5957 | Residential | Single Family | NA | NA | NA | NA |\n",
       "|  200109 | 2020 | 12/09/2020 | Avon    | 57 FAR HILLS DRIVE    | 847520 | 1250000 | 0.6780 | Residential | Single Family | NA | NA | NA | NA |\n",
       "\n"
      ],
      "text/plain": [
       "  serial_number list_year date_recorded town    address              \n",
       "1 2020348       2020      09/13/2021    Ansonia 230 WAKELEE AVE      \n",
       "2   20002       2020      10/02/2020    Ashford 390 TURNPIKE RD      \n",
       "3  200212       2020      03/09/2021    Avon    5 CHESTNUT DRIVE     \n",
       "4  200243       2020      04/13/2021    Avon    111 NORTHINGTON DRIVE\n",
       "5  200377       2020      07/02/2021    Avon    70 FAR HILLS DRIVE   \n",
       "6  200109       2020      12/09/2020    Avon    57 FAR HILLS DRIVE   \n",
       "  assessed_value sale_amount sales_ratio property_type residential_type\n",
       "1 150500          325000     0.4630      Commercial    NA              \n",
       "2 253000          430000     0.5883      Residential   Single Family   \n",
       "3 130400          179900     0.7248      Residential   Condo           \n",
       "4 619290          890000     0.6958      Residential   Single Family   \n",
       "5 862330         1447500     0.5957      Residential   Single Family   \n",
       "6 847520         1250000     0.6780      Residential   Single Family   \n",
       "  non_use_code assessor_remarks opm_remarks location\n",
       "1 NA           NA               NA          NA      \n",
       "2 NA           NA               NA          NA      \n",
       "3 NA           NA               NA          NA      \n",
       "4 NA           NA               NA          NA      \n",
       "5 NA           NA               NA          NA      \n",
       "6 NA           NA               NA          NA      "
      ]
     },
     "metadata": {},
     "output_type": "display_data"
    }
   ],
   "source": [
    "# data set url\n",
    "url <- \"https://data.ct.gov/api/views/5mzw-sjtu/rows.csv?accessType=DOWNLOAD\"\n",
    "\n",
    "# read data \n",
    "real_estate_data <- read_csv(url) |>\n",
    "    clean_names()\n",
    "\n",
    "head(real_estate_data)"
   ]
  },
  {
   "cell_type": "code",
   "execution_count": 15,
   "id": "1a5de26a-2cd5-4119-9e25-b6b315fcedd3",
   "metadata": {
    "tags": []
   },
   "outputs": [
    {
     "data": {
      "text/html": [
       "<table class=\"dataframe\">\n",
       "<caption>A tibble: 6 × 6</caption>\n",
       "<thead>\n",
       "\t<tr><th scope=col>list_year</th><th scope=col>assessed_value</th><th scope=col>sale_amount</th><th scope=col>sales_ratio</th><th scope=col>property_type</th><th scope=col>residential_type</th></tr>\n",
       "\t<tr><th scope=col>&lt;dbl&gt;</th><th scope=col>&lt;dbl&gt;</th><th scope=col>&lt;dbl&gt;</th><th scope=col>&lt;dbl&gt;</th><th scope=col>&lt;chr&gt;</th><th scope=col>&lt;chr&gt;</th></tr>\n",
       "</thead>\n",
       "<tbody>\n",
       "\t<tr><td>2020</td><td>150500</td><td> 325000</td><td>0.4630</td><td>Commercial </td><td>NA           </td></tr>\n",
       "\t<tr><td>2020</td><td>253000</td><td> 430000</td><td>0.5883</td><td>Residential</td><td>Single Family</td></tr>\n",
       "\t<tr><td>2020</td><td>130400</td><td> 179900</td><td>0.7248</td><td>Residential</td><td>Condo        </td></tr>\n",
       "\t<tr><td>2020</td><td>619290</td><td> 890000</td><td>0.6958</td><td>Residential</td><td>Single Family</td></tr>\n",
       "\t<tr><td>2020</td><td>862330</td><td>1447500</td><td>0.5957</td><td>Residential</td><td>Single Family</td></tr>\n",
       "\t<tr><td>2020</td><td>847520</td><td>1250000</td><td>0.6780</td><td>Residential</td><td>Single Family</td></tr>\n",
       "</tbody>\n",
       "</table>\n"
      ],
      "text/latex": [
       "A tibble: 6 × 6\n",
       "\\begin{tabular}{llllll}\n",
       " list\\_year & assessed\\_value & sale\\_amount & sales\\_ratio & property\\_type & residential\\_type\\\\\n",
       " <dbl> & <dbl> & <dbl> & <dbl> & <chr> & <chr>\\\\\n",
       "\\hline\n",
       "\t 2020 & 150500 &  325000 & 0.4630 & Commercial  & NA           \\\\\n",
       "\t 2020 & 253000 &  430000 & 0.5883 & Residential & Single Family\\\\\n",
       "\t 2020 & 130400 &  179900 & 0.7248 & Residential & Condo        \\\\\n",
       "\t 2020 & 619290 &  890000 & 0.6958 & Residential & Single Family\\\\\n",
       "\t 2020 & 862330 & 1447500 & 0.5957 & Residential & Single Family\\\\\n",
       "\t 2020 & 847520 & 1250000 & 0.6780 & Residential & Single Family\\\\\n",
       "\\end{tabular}\n"
      ],
      "text/markdown": [
       "\n",
       "A tibble: 6 × 6\n",
       "\n",
       "| list_year &lt;dbl&gt; | assessed_value &lt;dbl&gt; | sale_amount &lt;dbl&gt; | sales_ratio &lt;dbl&gt; | property_type &lt;chr&gt; | residential_type &lt;chr&gt; |\n",
       "|---|---|---|---|---|---|\n",
       "| 2020 | 150500 |  325000 | 0.4630 | Commercial  | NA            |\n",
       "| 2020 | 253000 |  430000 | 0.5883 | Residential | Single Family |\n",
       "| 2020 | 130400 |  179900 | 0.7248 | Residential | Condo         |\n",
       "| 2020 | 619290 |  890000 | 0.6958 | Residential | Single Family |\n",
       "| 2020 | 862330 | 1447500 | 0.5957 | Residential | Single Family |\n",
       "| 2020 | 847520 | 1250000 | 0.6780 | Residential | Single Family |\n",
       "\n"
      ],
      "text/plain": [
       "  list_year assessed_value sale_amount sales_ratio property_type\n",
       "1 2020      150500          325000     0.4630      Commercial   \n",
       "2 2020      253000          430000     0.5883      Residential  \n",
       "3 2020      130400          179900     0.7248      Residential  \n",
       "4 2020      619290          890000     0.6958      Residential  \n",
       "5 2020      862330         1447500     0.5957      Residential  \n",
       "6 2020      847520         1250000     0.6780      Residential  \n",
       "  residential_type\n",
       "1 NA              \n",
       "2 Single Family   \n",
       "3 Condo           \n",
       "4 Single Family   \n",
       "5 Single Family   \n",
       "6 Single Family   "
      ]
     },
     "metadata": {},
     "output_type": "display_data"
    }
   ],
   "source": [
    "# keeping only relevant columns\n",
    "real_estate_selected <- real_estate_data |>\n",
    "    filter(!is.na(property_type)) |>\n",
    "    select(list_year, assessed_value, sale_amount, sales_ratio, property_type, residential_type)\n",
    "\n",
    "head(real_estate_selected)"
   ]
  },
  {
   "cell_type": "code",
   "execution_count": 22,
   "id": "0d796aee-8397-4ec5-8ba8-a59a99123fe2",
   "metadata": {
    "tags": []
   },
   "outputs": [
    {
     "data": {
      "text/html": [
       "<table class=\"dataframe\">\n",
       "<caption>A tibble: 1 × 8</caption>\n",
       "<thead>\n",
       "\t<tr><th scope=col>min_year</th><th scope=col>max_year</th><th scope=col>min_assessed_value</th><th scope=col>max_assessed_value</th><th scope=col>min_sale_amount</th><th scope=col>max_sale_amount</th><th scope=col>min_sales_ratio</th><th scope=col>max_sales_ratio</th></tr>\n",
       "\t<tr><th scope=col>&lt;dbl&gt;</th><th scope=col>&lt;dbl&gt;</th><th scope=col>&lt;dbl&gt;</th><th scope=col>&lt;dbl&gt;</th><th scope=col>&lt;dbl&gt;</th><th scope=col>&lt;dbl&gt;</th><th scope=col>&lt;dbl&gt;</th><th scope=col>&lt;dbl&gt;</th></tr>\n",
       "</thead>\n",
       "<tbody>\n",
       "\t<tr><td>2006</td><td>2020</td><td>0</td><td>881510000</td><td>0</td><td>5e+09</td><td>0</td><td>1226420</td></tr>\n",
       "</tbody>\n",
       "</table>\n"
      ],
      "text/latex": [
       "A tibble: 1 × 8\n",
       "\\begin{tabular}{llllllll}\n",
       " min\\_year & max\\_year & min\\_assessed\\_value & max\\_assessed\\_value & min\\_sale\\_amount & max\\_sale\\_amount & min\\_sales\\_ratio & max\\_sales\\_ratio\\\\\n",
       " <dbl> & <dbl> & <dbl> & <dbl> & <dbl> & <dbl> & <dbl> & <dbl>\\\\\n",
       "\\hline\n",
       "\t 2006 & 2020 & 0 & 881510000 & 0 & 5e+09 & 0 & 1226420\\\\\n",
       "\\end{tabular}\n"
      ],
      "text/markdown": [
       "\n",
       "A tibble: 1 × 8\n",
       "\n",
       "| min_year &lt;dbl&gt; | max_year &lt;dbl&gt; | min_assessed_value &lt;dbl&gt; | max_assessed_value &lt;dbl&gt; | min_sale_amount &lt;dbl&gt; | max_sale_amount &lt;dbl&gt; | min_sales_ratio &lt;dbl&gt; | max_sales_ratio &lt;dbl&gt; |\n",
       "|---|---|---|---|---|---|---|---|\n",
       "| 2006 | 2020 | 0 | 881510000 | 0 | 5e+09 | 0 | 1226420 |\n",
       "\n"
      ],
      "text/plain": [
       "  min_year max_year min_assessed_value max_assessed_value min_sale_amount\n",
       "1 2006     2020     0                  881510000          0              \n",
       "  max_sale_amount min_sales_ratio max_sales_ratio\n",
       "1 5e+09           0               1226420        "
      ]
     },
     "metadata": {},
     "output_type": "display_data"
    },
    {
     "data": {
      "text/html": [
       "<table class=\"dataframe\">\n",
       "<caption>A tibble: 1 × 4</caption>\n",
       "<thead>\n",
       "\t<tr><th scope=col>mean_year</th><th scope=col>mean_assessed_value</th><th scope=col>mean_sale_amount</th><th scope=col>mean_sales_ratio</th></tr>\n",
       "\t<tr><th scope=col>&lt;dbl&gt;</th><th scope=col>&lt;dbl&gt;</th><th scope=col>&lt;dbl&gt;</th><th scope=col>&lt;dbl&gt;</th></tr>\n",
       "</thead>\n",
       "<tbody>\n",
       "\t<tr><td>2013.782</td><td>256010.3</td><td>377288.9</td><td>5.625535</td></tr>\n",
       "</tbody>\n",
       "</table>\n"
      ],
      "text/latex": [
       "A tibble: 1 × 4\n",
       "\\begin{tabular}{llll}\n",
       " mean\\_year & mean\\_assessed\\_value & mean\\_sale\\_amount & mean\\_sales\\_ratio\\\\\n",
       " <dbl> & <dbl> & <dbl> & <dbl>\\\\\n",
       "\\hline\n",
       "\t 2013.782 & 256010.3 & 377288.9 & 5.625535\\\\\n",
       "\\end{tabular}\n"
      ],
      "text/markdown": [
       "\n",
       "A tibble: 1 × 4\n",
       "\n",
       "| mean_year &lt;dbl&gt; | mean_assessed_value &lt;dbl&gt; | mean_sale_amount &lt;dbl&gt; | mean_sales_ratio &lt;dbl&gt; |\n",
       "|---|---|---|---|\n",
       "| 2013.782 | 256010.3 | 377288.9 | 5.625535 |\n",
       "\n"
      ],
      "text/plain": [
       "  mean_year mean_assessed_value mean_sale_amount mean_sales_ratio\n",
       "1 2013.782  256010.3            377288.9         5.625535        "
      ]
     },
     "metadata": {},
     "output_type": "display_data"
    }
   ],
   "source": [
    "# calculating some summary statistics about the population\n",
    "min_max_stats <- real_estate_selected |>\n",
    "    summarize(min_year = min(list_year),\n",
    "              max_year = max(list_year),\n",
    "              min_assessed_value = min(assessed_value),\n",
    "              max_assessed_value = max(assessed_value),\n",
    "              min_sale_amount = min(sale_amount),\n",
    "              max_sale_amount = max(sale_amount),\n",
    "              min_sales_ratio = min(sales_ratio),\n",
    "              max_sales_ratio = max(sales_ratio))\n",
    "min_max_stats\n",
    "\n",
    "mean_stats <- real_estate_selected |>\n",
    "    summarize(mean_year = mean(list_year), #not this this is actually relevant......just copy pasting the above\n",
    "              mean_assessed_value = mean(assessed_value),\n",
    "              mean_sale_amount = mean(sale_amount),\n",
    "              mean_sales_ratio = mean(sales_ratio))\n",
    "mean_stats"
   ]
  },
  {
   "cell_type": "code",
   "execution_count": null,
   "id": "6bbc4b77-3561-4c3a-85f7-b7106cfaa7d8",
   "metadata": {},
   "outputs": [],
   "source": []
  },
  {
   "cell_type": "markdown",
   "id": "c47ab974-993b-4ab4-83f2-fdcbb344bc58",
   "metadata": {},
   "source": [
    "## Methods: Plan"
   ]
  },
  {
   "cell_type": "markdown",
   "id": "583ea2ce-22f2-4894-bd80-b0a2450b8283",
   "metadata": {},
   "source": [
    "... methods/plan here"
   ]
  },
  {
   "cell_type": "markdown",
   "id": "115d4951-4b98-403a-bcb8-e06fa500deb8",
   "metadata": {},
   "source": [
    "## References"
   ]
  },
  {
   "cell_type": "markdown",
   "id": "79b3a941-6aaf-4d78-be2b-92587d3e9b6c",
   "metadata": {},
   "source": [
    "- ...\n",
    "- ..."
   ]
  },
  {
   "cell_type": "code",
   "execution_count": null,
   "id": "56fd1e6a-f0ca-4a00-93b3-02eb3528f0a9",
   "metadata": {},
   "outputs": [],
   "source": []
  }
 ],
 "metadata": {
  "kernelspec": {
   "display_name": "R",
   "language": "R",
   "name": "ir"
  },
  "language_info": {
   "codemirror_mode": "r",
   "file_extension": ".r",
   "mimetype": "text/x-r-source",
   "name": "R",
   "pygments_lexer": "r",
   "version": "4.2.3"
  }
 },
 "nbformat": 4,
 "nbformat_minor": 5
}
