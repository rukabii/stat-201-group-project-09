{
 "cells": [
  {
   "cell_type": "markdown",
   "id": "4c2e860e-5659-4c2c-a6c4-cc7a103d5126",
   "metadata": {},
   "source": [
    "# \\<Project Proposal: Title\\>"
   ]
  },
  {
   "cell_type": "markdown",
   "id": "55188c32-fe77-49df-8e85-c62b5b4ac073",
   "metadata": {},
   "source": [
    "## Introduction"
   ]
  },
  {
   "cell_type": "markdown",
   "id": "71c786a7-3df0-43f8-a0a0-1575380cd1bb",
   "metadata": {},
   "source": [
    "... introduction starts here"
   ]
  },
  {
   "cell_type": "markdown",
   "id": "2241d73f-d6c5-4b9e-93ed-aae516f87103",
   "metadata": {},
   "source": [
    "## Preliminary Results"
   ]
  },
  {
   "cell_type": "markdown",
   "id": "76969609-b120-4dab-a2da-a2d3f65dca41",
   "metadata": {},
   "source": [
    "... preliminary results here"
   ]
  },
  {
   "cell_type": "markdown",
   "id": "c47ab974-993b-4ab4-83f2-fdcbb344bc58",
   "metadata": {},
   "source": [
    "## Methods: Plan"
   ]
  },
  {
   "cell_type": "markdown",
   "id": "583ea2ce-22f2-4894-bd80-b0a2450b8283",
   "metadata": {},
   "source": [
    "... etc."
   ]
  },
  {
   "cell_type": "markdown",
   "id": "115d4951-4b98-403a-bcb8-e06fa500deb8",
   "metadata": {},
   "source": [
    "## References"
   ]
  },
  {
   "cell_type": "markdown",
   "id": "79b3a941-6aaf-4d78-be2b-92587d3e9b6c",
   "metadata": {},
   "source": [
    "- ...\n",
    "- ..."
   ]
  },
  {
   "cell_type": "code",
   "execution_count": null,
   "id": "56fd1e6a-f0ca-4a00-93b3-02eb3528f0a9",
   "metadata": {},
   "outputs": [],
   "source": []
  }
 ],
 "metadata": {
  "kernelspec": {
   "display_name": "R",
   "language": "R",
   "name": "ir"
  },
  "language_info": {
   "codemirror_mode": "r",
   "file_extension": ".r",
   "mimetype": "text/x-r-source",
   "name": "R",
   "pygments_lexer": "r",
   "version": "4.2.3"
  }
 },
 "nbformat": 4,
 "nbformat_minor": 5
}
