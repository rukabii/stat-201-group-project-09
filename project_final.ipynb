{
 "cells": [
  {
   "cell_type": "markdown",
   "id": "4c2e860e-5659-4c2c-a6c4-cc7a103d5126",
   "metadata": {},
   "source": [
    "# Final Report: Comparative Analysis of Residential Home Sales in East Hartford and West Hartford\n",
    "\n"
   ]
  },
  {
   "cell_type": "markdown",
   "id": "55188c32-fe77-49df-8e85-c62b5b4ac073",
   "metadata": {},
   "source": [
    "## Introduction"
   ]
  },
  {
   "cell_type": "markdown",
   "id": "71c786a7-3df0-43f8-a0a0-1575380cd1bb",
   "metadata": {},
   "source": [
    "### Background Info\n",
    "Different areas have different price distributions and variability which may be a crucial factor in someone’s plans for the next few years of their life. Therefore, understanding the housing market and real estate trends is very important when potential homebuyers want to make informed decisions before buying. There are many ways to be more informed, ranging from official legislature setting a bar for how professional agents better serve consumers with their needs and interests in mind, to personal research that one does on the side.\n",
    "\n",
    "### Project Question\n",
    "Is there a difference in mean sale price of residential properties in two different towns, East Hartford and West Hartford, segmented by residential type?\n",
    "\n",
    "### Data Set\n",
    "We will be using the Real Estate Sales 2001-2020 GL data set from the Data.gov data catalog. It contains records about real estate sales over $2,000 in the US state of Connecticut between the years of 2001 to 2020, including information about the year of listing, town, assessed value, sale amount, property type, and residential type. \n"
   ]
  },
  {
   "cell_type": "markdown",
   "id": "2241d73f-d6c5-4b9e-93ed-aae516f87103",
   "metadata": {},
   "source": [
    "## Preliminary Results"
   ]
  },
  {
   "cell_type": "markdown",
   "id": "76969609-b120-4dab-a2da-a2d3f65dca41",
   "metadata": {},
   "source": [
    "First we wrangle the data and plot it before doing our preliminary analysis"
   ]
  },
  {
   "cell_type": "code",
   "execution_count": 1,
   "id": "7a8acd3e-9025-4f9a-97a9-945f978b457d",
   "metadata": {
    "tags": []
   },
   "outputs": [
    {
     "name": "stderr",
     "output_type": "stream",
     "text": [
      "── \u001b[1mAttaching core tidyverse packages\u001b[22m ──────────────────────── tidyverse 2.0.0 ──\n",
      "\u001b[32m✔\u001b[39m \u001b[34mdplyr    \u001b[39m 1.1.3     \u001b[32m✔\u001b[39m \u001b[34mreadr    \u001b[39m 2.1.4\n",
      "\u001b[32m✔\u001b[39m \u001b[34mforcats  \u001b[39m 1.0.0     \u001b[32m✔\u001b[39m \u001b[34mstringr  \u001b[39m 1.5.0\n",
      "\u001b[32m✔\u001b[39m \u001b[34mggplot2  \u001b[39m 3.4.4     \u001b[32m✔\u001b[39m \u001b[34mtibble   \u001b[39m 3.2.1\n",
      "\u001b[32m✔\u001b[39m \u001b[34mlubridate\u001b[39m 1.9.3     \u001b[32m✔\u001b[39m \u001b[34mtidyr    \u001b[39m 1.3.0\n",
      "\u001b[32m✔\u001b[39m \u001b[34mpurrr    \u001b[39m 1.0.2     \n",
      "── \u001b[1mConflicts\u001b[22m ────────────────────────────────────────── tidyverse_conflicts() ──\n",
      "\u001b[31m✖\u001b[39m \u001b[34mdplyr\u001b[39m::\u001b[32mfilter()\u001b[39m masks \u001b[34mstats\u001b[39m::filter()\n",
      "\u001b[31m✖\u001b[39m \u001b[34mdplyr\u001b[39m::\u001b[32mlag()\u001b[39m    masks \u001b[34mstats\u001b[39m::lag()\n",
      "\u001b[36mℹ\u001b[39m Use the conflicted package (\u001b[3m\u001b[34m<http://conflicted.r-lib.org/>\u001b[39m\u001b[23m) to force all conflicts to become errors\n",
      "── \u001b[1mAttaching packages\u001b[22m ────────────────────────────────────── tidymodels 1.1.1 ──\n",
      "\n",
      "\u001b[32m✔\u001b[39m \u001b[34mbroom       \u001b[39m 1.0.5     \u001b[32m✔\u001b[39m \u001b[34mrsample     \u001b[39m 1.2.0\n",
      "\u001b[32m✔\u001b[39m \u001b[34mdials       \u001b[39m 1.2.0     \u001b[32m✔\u001b[39m \u001b[34mtune        \u001b[39m 1.1.2\n",
      "\u001b[32m✔\u001b[39m \u001b[34minfer       \u001b[39m 1.0.5     \u001b[32m✔\u001b[39m \u001b[34mworkflows   \u001b[39m 1.1.3\n",
      "\u001b[32m✔\u001b[39m \u001b[34mmodeldata   \u001b[39m 1.2.0     \u001b[32m✔\u001b[39m \u001b[34mworkflowsets\u001b[39m 1.0.1\n",
      "\u001b[32m✔\u001b[39m \u001b[34mparsnip     \u001b[39m 1.1.1     \u001b[32m✔\u001b[39m \u001b[34myardstick   \u001b[39m 1.2.0\n",
      "\u001b[32m✔\u001b[39m \u001b[34mrecipes     \u001b[39m 1.0.8     \n",
      "\n",
      "── \u001b[1mConflicts\u001b[22m ───────────────────────────────────────── tidymodels_conflicts() ──\n",
      "\u001b[31m✖\u001b[39m \u001b[34mscales\u001b[39m::\u001b[32mdiscard()\u001b[39m masks \u001b[34mpurrr\u001b[39m::discard()\n",
      "\u001b[31m✖\u001b[39m \u001b[34mdplyr\u001b[39m::\u001b[32mfilter()\u001b[39m   masks \u001b[34mstats\u001b[39m::filter()\n",
      "\u001b[31m✖\u001b[39m \u001b[34mrecipes\u001b[39m::\u001b[32mfixed()\u001b[39m  masks \u001b[34mstringr\u001b[39m::fixed()\n",
      "\u001b[31m✖\u001b[39m \u001b[34mdplyr\u001b[39m::\u001b[32mlag()\u001b[39m      masks \u001b[34mstats\u001b[39m::lag()\n",
      "\u001b[31m✖\u001b[39m \u001b[34myardstick\u001b[39m::\u001b[32mspec()\u001b[39m masks \u001b[34mreadr\u001b[39m::spec()\n",
      "\u001b[31m✖\u001b[39m \u001b[34mrecipes\u001b[39m::\u001b[32mstep()\u001b[39m   masks \u001b[34mstats\u001b[39m::step()\n",
      "\u001b[34m•\u001b[39m Learn how to get started at \u001b[32mhttps://www.tidymodels.org/start/\u001b[39m\n",
      "\n",
      "\n",
      "Attaching package: ‘janitor’\n",
      "\n",
      "\n",
      "The following objects are masked from ‘package:stats’:\n",
      "\n",
      "    chisq.test, fisher.test\n",
      "\n",
      "\n"
     ]
    }
   ],
   "source": [
    "# loading in libraries\n",
    "library(tidyverse)\n",
    "library(tidymodels)\n",
    "library(janitor)\n",
    "library(infer)\n",
    "library(patchwork)\n",
    "options(repr.plot.width = 8, repr.plot.height =5) "
   ]
  },
  {
   "cell_type": "markdown",
   "id": "83bda893-da8a-4d00-9599-d86ed678a22c",
   "metadata": {},
   "source": [
    "## Wrangling Dataset"
   ]
  },
  {
   "cell_type": "code",
   "execution_count": 2,
   "id": "1ff6dc26-69e5-4fa4-86e7-768ad5f77964",
   "metadata": {
    "tags": []
   },
   "outputs": [
    {
     "name": "stderr",
     "output_type": "stream",
     "text": [
      "\u001b[1mRows: \u001b[22m\u001b[34m997213\u001b[39m \u001b[1mColumns: \u001b[22m\u001b[34m14\u001b[39m\n",
      "\u001b[36m──\u001b[39m \u001b[1mColumn specification\u001b[22m \u001b[36m────────────────────────────────────────────────────────\u001b[39m\n",
      "\u001b[1mDelimiter:\u001b[22m \",\"\n",
      "\u001b[31mchr\u001b[39m (9): Date Recorded, Town, Address, Property Type, Residential Type, Non ...\n",
      "\u001b[32mdbl\u001b[39m (5): Serial Number, List Year, Assessed Value, Sale Amount, Sales Ratio\n",
      "\n",
      "\u001b[36mℹ\u001b[39m Use `spec()` to retrieve the full column specification for this data.\n",
      "\u001b[36mℹ\u001b[39m Specify the column types or set `show_col_types = FALSE` to quiet this message.\n"
     ]
    },
    {
     "data": {
      "text/html": [
       "<table class=\"dataframe\">\n",
       "<caption>A tibble: 6 × 14</caption>\n",
       "<thead>\n",
       "\t<tr><th scope=col>serial_number</th><th scope=col>list_year</th><th scope=col>date_recorded</th><th scope=col>town</th><th scope=col>address</th><th scope=col>assessed_value</th><th scope=col>sale_amount</th><th scope=col>sales_ratio</th><th scope=col>property_type</th><th scope=col>residential_type</th><th scope=col>non_use_code</th><th scope=col>assessor_remarks</th><th scope=col>opm_remarks</th><th scope=col>location</th></tr>\n",
       "\t<tr><th scope=col>&lt;dbl&gt;</th><th scope=col>&lt;dbl&gt;</th><th scope=col>&lt;chr&gt;</th><th scope=col>&lt;chr&gt;</th><th scope=col>&lt;chr&gt;</th><th scope=col>&lt;dbl&gt;</th><th scope=col>&lt;dbl&gt;</th><th scope=col>&lt;dbl&gt;</th><th scope=col>&lt;chr&gt;</th><th scope=col>&lt;chr&gt;</th><th scope=col>&lt;chr&gt;</th><th scope=col>&lt;chr&gt;</th><th scope=col>&lt;chr&gt;</th><th scope=col>&lt;chr&gt;</th></tr>\n",
       "</thead>\n",
       "<tbody>\n",
       "\t<tr><td>2020348</td><td>2020</td><td>09/13/2021</td><td>Ansonia</td><td>230 WAKELEE AVE      </td><td>150500</td><td> 325000</td><td>0.4630</td><td>Commercial </td><td>NA           </td><td>NA</td><td>NA</td><td>NA</td><td>NA</td></tr>\n",
       "\t<tr><td>  20002</td><td>2020</td><td>10/02/2020</td><td>Ashford</td><td>390 TURNPIKE RD      </td><td>253000</td><td> 430000</td><td>0.5883</td><td>Residential</td><td>Single Family</td><td>NA</td><td>NA</td><td>NA</td><td>NA</td></tr>\n",
       "\t<tr><td> 200212</td><td>2020</td><td>03/09/2021</td><td>Avon   </td><td>5 CHESTNUT DRIVE     </td><td>130400</td><td> 179900</td><td>0.7248</td><td>Residential</td><td>Condo        </td><td>NA</td><td>NA</td><td>NA</td><td>NA</td></tr>\n",
       "\t<tr><td> 200243</td><td>2020</td><td>04/13/2021</td><td>Avon   </td><td>111 NORTHINGTON DRIVE</td><td>619290</td><td> 890000</td><td>0.6958</td><td>Residential</td><td>Single Family</td><td>NA</td><td>NA</td><td>NA</td><td>NA</td></tr>\n",
       "\t<tr><td> 200377</td><td>2020</td><td>07/02/2021</td><td>Avon   </td><td>70 FAR HILLS DRIVE   </td><td>862330</td><td>1447500</td><td>0.5957</td><td>Residential</td><td>Single Family</td><td>NA</td><td>NA</td><td>NA</td><td>NA</td></tr>\n",
       "\t<tr><td> 200109</td><td>2020</td><td>12/09/2020</td><td>Avon   </td><td>57 FAR HILLS DRIVE   </td><td>847520</td><td>1250000</td><td>0.6780</td><td>Residential</td><td>Single Family</td><td>NA</td><td>NA</td><td>NA</td><td>NA</td></tr>\n",
       "</tbody>\n",
       "</table>\n"
      ],
      "text/latex": [
       "A tibble: 6 × 14\n",
       "\\begin{tabular}{llllllllllllll}\n",
       " serial\\_number & list\\_year & date\\_recorded & town & address & assessed\\_value & sale\\_amount & sales\\_ratio & property\\_type & residential\\_type & non\\_use\\_code & assessor\\_remarks & opm\\_remarks & location\\\\\n",
       " <dbl> & <dbl> & <chr> & <chr> & <chr> & <dbl> & <dbl> & <dbl> & <chr> & <chr> & <chr> & <chr> & <chr> & <chr>\\\\\n",
       "\\hline\n",
       "\t 2020348 & 2020 & 09/13/2021 & Ansonia & 230 WAKELEE AVE       & 150500 &  325000 & 0.4630 & Commercial  & NA            & NA & NA & NA & NA\\\\\n",
       "\t   20002 & 2020 & 10/02/2020 & Ashford & 390 TURNPIKE RD       & 253000 &  430000 & 0.5883 & Residential & Single Family & NA & NA & NA & NA\\\\\n",
       "\t  200212 & 2020 & 03/09/2021 & Avon    & 5 CHESTNUT DRIVE      & 130400 &  179900 & 0.7248 & Residential & Condo         & NA & NA & NA & NA\\\\\n",
       "\t  200243 & 2020 & 04/13/2021 & Avon    & 111 NORTHINGTON DRIVE & 619290 &  890000 & 0.6958 & Residential & Single Family & NA & NA & NA & NA\\\\\n",
       "\t  200377 & 2020 & 07/02/2021 & Avon    & 70 FAR HILLS DRIVE    & 862330 & 1447500 & 0.5957 & Residential & Single Family & NA & NA & NA & NA\\\\\n",
       "\t  200109 & 2020 & 12/09/2020 & Avon    & 57 FAR HILLS DRIVE    & 847520 & 1250000 & 0.6780 & Residential & Single Family & NA & NA & NA & NA\\\\\n",
       "\\end{tabular}\n"
      ],
      "text/markdown": [
       "\n",
       "A tibble: 6 × 14\n",
       "\n",
       "| serial_number &lt;dbl&gt; | list_year &lt;dbl&gt; | date_recorded &lt;chr&gt; | town &lt;chr&gt; | address &lt;chr&gt; | assessed_value &lt;dbl&gt; | sale_amount &lt;dbl&gt; | sales_ratio &lt;dbl&gt; | property_type &lt;chr&gt; | residential_type &lt;chr&gt; | non_use_code &lt;chr&gt; | assessor_remarks &lt;chr&gt; | opm_remarks &lt;chr&gt; | location &lt;chr&gt; |\n",
       "|---|---|---|---|---|---|---|---|---|---|---|---|---|---|\n",
       "| 2020348 | 2020 | 09/13/2021 | Ansonia | 230 WAKELEE AVE       | 150500 |  325000 | 0.4630 | Commercial  | NA            | NA | NA | NA | NA |\n",
       "|   20002 | 2020 | 10/02/2020 | Ashford | 390 TURNPIKE RD       | 253000 |  430000 | 0.5883 | Residential | Single Family | NA | NA | NA | NA |\n",
       "|  200212 | 2020 | 03/09/2021 | Avon    | 5 CHESTNUT DRIVE      | 130400 |  179900 | 0.7248 | Residential | Condo         | NA | NA | NA | NA |\n",
       "|  200243 | 2020 | 04/13/2021 | Avon    | 111 NORTHINGTON DRIVE | 619290 |  890000 | 0.6958 | Residential | Single Family | NA | NA | NA | NA |\n",
       "|  200377 | 2020 | 07/02/2021 | Avon    | 70 FAR HILLS DRIVE    | 862330 | 1447500 | 0.5957 | Residential | Single Family | NA | NA | NA | NA |\n",
       "|  200109 | 2020 | 12/09/2020 | Avon    | 57 FAR HILLS DRIVE    | 847520 | 1250000 | 0.6780 | Residential | Single Family | NA | NA | NA | NA |\n",
       "\n"
      ],
      "text/plain": [
       "  serial_number list_year date_recorded town    address              \n",
       "1 2020348       2020      09/13/2021    Ansonia 230 WAKELEE AVE      \n",
       "2   20002       2020      10/02/2020    Ashford 390 TURNPIKE RD      \n",
       "3  200212       2020      03/09/2021    Avon    5 CHESTNUT DRIVE     \n",
       "4  200243       2020      04/13/2021    Avon    111 NORTHINGTON DRIVE\n",
       "5  200377       2020      07/02/2021    Avon    70 FAR HILLS DRIVE   \n",
       "6  200109       2020      12/09/2020    Avon    57 FAR HILLS DRIVE   \n",
       "  assessed_value sale_amount sales_ratio property_type residential_type\n",
       "1 150500          325000     0.4630      Commercial    NA              \n",
       "2 253000          430000     0.5883      Residential   Single Family   \n",
       "3 130400          179900     0.7248      Residential   Condo           \n",
       "4 619290          890000     0.6958      Residential   Single Family   \n",
       "5 862330         1447500     0.5957      Residential   Single Family   \n",
       "6 847520         1250000     0.6780      Residential   Single Family   \n",
       "  non_use_code assessor_remarks opm_remarks location\n",
       "1 NA           NA               NA          NA      \n",
       "2 NA           NA               NA          NA      \n",
       "3 NA           NA               NA          NA      \n",
       "4 NA           NA               NA          NA      \n",
       "5 NA           NA               NA          NA      \n",
       "6 NA           NA               NA          NA      "
      ]
     },
     "metadata": {},
     "output_type": "display_data"
    }
   ],
   "source": [
    "# data set url\n",
    "url <- \"https://data.ct.gov/api/views/5mzw-sjtu/rows.csv?accessType=DOWNLOAD\"\n",
    "\n",
    "# read data \n",
    "real_estate_data <- read_csv(url) |>\n",
    "    clean_names()\n",
    "\n",
    "head(real_estate_data)"
   ]
  },
  {
   "cell_type": "code",
   "execution_count": 3,
   "id": "1a5de26a-2cd5-4119-9e25-b6b315fcedd3",
   "metadata": {
    "tags": []
   },
   "outputs": [
    {
     "data": {
      "text/html": [
       "<table class=\"dataframe\">\n",
       "<caption>A tibble: 6 × 5</caption>\n",
       "<thead>\n",
       "\t<tr><th scope=col>town</th><th scope=col>list_year</th><th scope=col>assessed_value</th><th scope=col>sale_amount</th><th scope=col>residential_type</th></tr>\n",
       "\t<tr><th scope=col>&lt;chr&gt;</th><th scope=col>&lt;dbl&gt;</th><th scope=col>&lt;dbl&gt;</th><th scope=col>&lt;dbl&gt;</th><th scope=col>&lt;chr&gt;</th></tr>\n",
       "</thead>\n",
       "<tbody>\n",
       "\t<tr><td>Ashford</td><td>2020</td><td>253000</td><td> 430000</td><td>Single Family</td></tr>\n",
       "\t<tr><td>Avon   </td><td>2020</td><td>130400</td><td> 179900</td><td>Condo        </td></tr>\n",
       "\t<tr><td>Avon   </td><td>2020</td><td>619290</td><td> 890000</td><td>Single Family</td></tr>\n",
       "\t<tr><td>Avon   </td><td>2020</td><td>862330</td><td>1447500</td><td>Single Family</td></tr>\n",
       "\t<tr><td>Avon   </td><td>2020</td><td>847520</td><td>1250000</td><td>Single Family</td></tr>\n",
       "\t<tr><td>Berlin </td><td>2020</td><td>234200</td><td> 130000</td><td>Two Family   </td></tr>\n",
       "</tbody>\n",
       "</table>\n"
      ],
      "text/latex": [
       "A tibble: 6 × 5\n",
       "\\begin{tabular}{lllll}\n",
       " town & list\\_year & assessed\\_value & sale\\_amount & residential\\_type\\\\\n",
       " <chr> & <dbl> & <dbl> & <dbl> & <chr>\\\\\n",
       "\\hline\n",
       "\t Ashford & 2020 & 253000 &  430000 & Single Family\\\\\n",
       "\t Avon    & 2020 & 130400 &  179900 & Condo        \\\\\n",
       "\t Avon    & 2020 & 619290 &  890000 & Single Family\\\\\n",
       "\t Avon    & 2020 & 862330 & 1447500 & Single Family\\\\\n",
       "\t Avon    & 2020 & 847520 & 1250000 & Single Family\\\\\n",
       "\t Berlin  & 2020 & 234200 &  130000 & Two Family   \\\\\n",
       "\\end{tabular}\n"
      ],
      "text/markdown": [
       "\n",
       "A tibble: 6 × 5\n",
       "\n",
       "| town &lt;chr&gt; | list_year &lt;dbl&gt; | assessed_value &lt;dbl&gt; | sale_amount &lt;dbl&gt; | residential_type &lt;chr&gt; |\n",
       "|---|---|---|---|---|\n",
       "| Ashford | 2020 | 253000 |  430000 | Single Family |\n",
       "| Avon    | 2020 | 130400 |  179900 | Condo         |\n",
       "| Avon    | 2020 | 619290 |  890000 | Single Family |\n",
       "| Avon    | 2020 | 862330 | 1447500 | Single Family |\n",
       "| Avon    | 2020 | 847520 | 1250000 | Single Family |\n",
       "| Berlin  | 2020 | 234200 |  130000 | Two Family    |\n",
       "\n"
      ],
      "text/plain": [
       "  town    list_year assessed_value sale_amount residential_type\n",
       "1 Ashford 2020      253000          430000     Single Family   \n",
       "2 Avon    2020      130400          179900     Condo           \n",
       "3 Avon    2020      619290          890000     Single Family   \n",
       "4 Avon    2020      862330         1447500     Single Family   \n",
       "5 Avon    2020      847520         1250000     Single Family   \n",
       "6 Berlin  2020      234200          130000     Two Family      "
      ]
     },
     "metadata": {},
     "output_type": "display_data"
    },
    {
     "data": {
      "text/html": [
       "<table class=\"dataframe\">\n",
       "<caption>A tibble: 6 × 5</caption>\n",
       "<thead>\n",
       "\t<tr><th scope=col>town</th><th scope=col>list_year</th><th scope=col>assessed_value</th><th scope=col>sale_amount</th><th scope=col>residential_type</th></tr>\n",
       "\t<tr><th scope=col>&lt;chr&gt;</th><th scope=col>&lt;dbl&gt;</th><th scope=col>&lt;dbl&gt;</th><th scope=col>&lt;dbl&gt;</th><th scope=col>&lt;chr&gt;</th></tr>\n",
       "</thead>\n",
       "<tbody>\n",
       "\t<tr><td>West Hartford</td><td>2020</td><td>216580</td><td>305000</td><td>Single Family</td></tr>\n",
       "\t<tr><td>West Hartford</td><td>2020</td><td>181720</td><td>327900</td><td>Single Family</td></tr>\n",
       "\t<tr><td>West Hartford</td><td>2020</td><td>166670</td><td>305000</td><td>Condo        </td></tr>\n",
       "\t<tr><td>East Hartford</td><td>2020</td><td> 87380</td><td>235000</td><td>Single Family</td></tr>\n",
       "\t<tr><td>East Hartford</td><td>2020</td><td> 73340</td><td>180000</td><td>Single Family</td></tr>\n",
       "\t<tr><td>East Hartford</td><td>2020</td><td> 99730</td><td>164000</td><td>Single Family</td></tr>\n",
       "</tbody>\n",
       "</table>\n"
      ],
      "text/latex": [
       "A tibble: 6 × 5\n",
       "\\begin{tabular}{lllll}\n",
       " town & list\\_year & assessed\\_value & sale\\_amount & residential\\_type\\\\\n",
       " <chr> & <dbl> & <dbl> & <dbl> & <chr>\\\\\n",
       "\\hline\n",
       "\t West Hartford & 2020 & 216580 & 305000 & Single Family\\\\\n",
       "\t West Hartford & 2020 & 181720 & 327900 & Single Family\\\\\n",
       "\t West Hartford & 2020 & 166670 & 305000 & Condo        \\\\\n",
       "\t East Hartford & 2020 &  87380 & 235000 & Single Family\\\\\n",
       "\t East Hartford & 2020 &  73340 & 180000 & Single Family\\\\\n",
       "\t East Hartford & 2020 &  99730 & 164000 & Single Family\\\\\n",
       "\\end{tabular}\n"
      ],
      "text/markdown": [
       "\n",
       "A tibble: 6 × 5\n",
       "\n",
       "| town &lt;chr&gt; | list_year &lt;dbl&gt; | assessed_value &lt;dbl&gt; | sale_amount &lt;dbl&gt; | residential_type &lt;chr&gt; |\n",
       "|---|---|---|---|---|\n",
       "| West Hartford | 2020 | 216580 | 305000 | Single Family |\n",
       "| West Hartford | 2020 | 181720 | 327900 | Single Family |\n",
       "| West Hartford | 2020 | 166670 | 305000 | Condo         |\n",
       "| East Hartford | 2020 |  87380 | 235000 | Single Family |\n",
       "| East Hartford | 2020 |  73340 | 180000 | Single Family |\n",
       "| East Hartford | 2020 |  99730 | 164000 | Single Family |\n",
       "\n"
      ],
      "text/plain": [
       "  town          list_year assessed_value sale_amount residential_type\n",
       "1 West Hartford 2020      216580         305000      Single Family   \n",
       "2 West Hartford 2020      181720         327900      Single Family   \n",
       "3 West Hartford 2020      166670         305000      Condo           \n",
       "4 East Hartford 2020       87380         235000      Single Family   \n",
       "5 East Hartford 2020       73340         180000      Single Family   \n",
       "6 East Hartford 2020       99730         164000      Single Family   "
      ]
     },
     "metadata": {},
     "output_type": "display_data"
    }
   ],
   "source": [
    "# keeping only relevant columns and filtering out houses sold before 2017 to decrease the effect of inflation\n",
    "real_estate_selected <- real_estate_data |>\n",
    "    select(town, list_year, assessed_value, sale_amount, residential_type) %>%\n",
    "    filter(!is.na(list_year), !is.na(sale_amount), !is.na(residential_type), !is.na(town), !is.na(assessed_value), list_year >= 2017)\n",
    "head(real_estate_selected)\n",
    "\n",
    "# keeping only the two towns of interest\n",
    "filtered_real_estate <- real_estate_selected %>%\n",
    "    filter(town == \"West Hartford\" | town == \"East Hartford\")\n",
    "head(filtered_real_estate)"
   ]
  },
  {
   "cell_type": "code",
   "execution_count": 4,
   "id": "a33699c4-c65b-4e92-93fa-6c6485d0f559",
   "metadata": {
    "tags": []
   },
   "outputs": [
    {
     "name": "stderr",
     "output_type": "stream",
     "text": [
      "\u001b[1m\u001b[22m`summarise()` has grouped output by 'town'. You can override using the\n",
      "`.groups` argument.\n"
     ]
    },
    {
     "data": {
      "text/html": [
       "<table class=\"dataframe\">\n",
       "<caption>A grouped_df: 10 × 3</caption>\n",
       "<thead>\n",
       "\t<tr><th scope=col>town</th><th scope=col>residential_type</th><th scope=col>n</th></tr>\n",
       "\t<tr><th scope=col>&lt;chr&gt;</th><th scope=col>&lt;chr&gt;</th><th scope=col>&lt;int&gt;</th></tr>\n",
       "</thead>\n",
       "<tbody>\n",
       "\t<tr><td>East Hartford</td><td>Condo        </td><td> 314</td></tr>\n",
       "\t<tr><td>East Hartford</td><td>Four Family  </td><td>  33</td></tr>\n",
       "\t<tr><td>East Hartford</td><td>Single Family</td><td>2528</td></tr>\n",
       "\t<tr><td>East Hartford</td><td>Three Family </td><td>  74</td></tr>\n",
       "\t<tr><td>East Hartford</td><td>Two Family   </td><td> 216</td></tr>\n",
       "\t<tr><td>West Hartford</td><td>Condo        </td><td> 747</td></tr>\n",
       "\t<tr><td>West Hartford</td><td>Four Family  </td><td>   3</td></tr>\n",
       "\t<tr><td>West Hartford</td><td>Single Family</td><td>3665</td></tr>\n",
       "\t<tr><td>West Hartford</td><td>Three Family </td><td>  60</td></tr>\n",
       "\t<tr><td>West Hartford</td><td>Two Family   </td><td> 194</td></tr>\n",
       "</tbody>\n",
       "</table>\n"
      ],
      "text/latex": [
       "A grouped\\_df: 10 × 3\n",
       "\\begin{tabular}{lll}\n",
       " town & residential\\_type & n\\\\\n",
       " <chr> & <chr> & <int>\\\\\n",
       "\\hline\n",
       "\t East Hartford & Condo         &  314\\\\\n",
       "\t East Hartford & Four Family   &   33\\\\\n",
       "\t East Hartford & Single Family & 2528\\\\\n",
       "\t East Hartford & Three Family  &   74\\\\\n",
       "\t East Hartford & Two Family    &  216\\\\\n",
       "\t West Hartford & Condo         &  747\\\\\n",
       "\t West Hartford & Four Family   &    3\\\\\n",
       "\t West Hartford & Single Family & 3665\\\\\n",
       "\t West Hartford & Three Family  &   60\\\\\n",
       "\t West Hartford & Two Family    &  194\\\\\n",
       "\\end{tabular}\n"
      ],
      "text/markdown": [
       "\n",
       "A grouped_df: 10 × 3\n",
       "\n",
       "| town &lt;chr&gt; | residential_type &lt;chr&gt; | n &lt;int&gt; |\n",
       "|---|---|---|\n",
       "| East Hartford | Condo         |  314 |\n",
       "| East Hartford | Four Family   |   33 |\n",
       "| East Hartford | Single Family | 2528 |\n",
       "| East Hartford | Three Family  |   74 |\n",
       "| East Hartford | Two Family    |  216 |\n",
       "| West Hartford | Condo         |  747 |\n",
       "| West Hartford | Four Family   |    3 |\n",
       "| West Hartford | Single Family | 3665 |\n",
       "| West Hartford | Three Family  |   60 |\n",
       "| West Hartford | Two Family    |  194 |\n",
       "\n"
      ],
      "text/plain": [
       "   town          residential_type n   \n",
       "1  East Hartford Condo             314\n",
       "2  East Hartford Four Family        33\n",
       "3  East Hartford Single Family    2528\n",
       "4  East Hartford Three Family       74\n",
       "5  East Hartford Two Family        216\n",
       "6  West Hartford Condo             747\n",
       "7  West Hartford Four Family         3\n",
       "8  West Hartford Single Family    3665\n",
       "9  West Hartford Three Family       60\n",
       "10 West Hartford Two Family        194"
      ]
     },
     "metadata": {},
     "output_type": "display_data"
    }
   ],
   "source": [
    "# Looking at the number of homes sold in the two towns we are interested in\n",
    "diff_town <- filtered_real_estate %>%\n",
    "    group_by(town, residential_type) %>%\n",
    "    summarize(n = n())\n",
    "diff_town"
   ]
  },
  {
   "cell_type": "markdown",
   "id": "bcb9c41d-86e1-482d-a9b0-87312a8e94d6",
   "metadata": {},
   "source": [
    "Since we see that three and four family houses are not very common, we will remove them from our sample as they may be skewed or not provide a lot of insight. The rest of the housing types were sold quite frequently in both towns and have a reasonably sized number number of housing sales, so we should not have to worry about outliers and can continue on with the data."
   ]
  },
  {
   "cell_type": "code",
   "execution_count": 5,
   "id": "0d796aee-8397-4ec5-8ba8-a59a99123fe2",
   "metadata": {
    "tags": []
   },
   "outputs": [
    {
     "name": "stderr",
     "output_type": "stream",
     "text": [
      "\u001b[1m\u001b[22m`summarise()` has grouped output by 'town'. You can override using the\n",
      "`.groups` argument.\n"
     ]
    },
    {
     "data": {
      "text/html": [
       "<table class=\"dataframe\">\n",
       "<caption>A grouped_df: 6 × 9</caption>\n",
       "<thead>\n",
       "\t<tr><th scope=col>town</th><th scope=col>residential_type</th><th scope=col>mean_sale_amount</th><th scope=col>min_sale_amount</th><th scope=col>max_sale_amount</th><th scope=col>mean_year</th><th scope=col>min_year</th><th scope=col>max_year</th><th scope=col>n</th></tr>\n",
       "\t<tr><th scope=col>&lt;chr&gt;</th><th scope=col>&lt;chr&gt;</th><th scope=col>&lt;dbl&gt;</th><th scope=col>&lt;dbl&gt;</th><th scope=col>&lt;dbl&gt;</th><th scope=col>&lt;dbl&gt;</th><th scope=col>&lt;dbl&gt;</th><th scope=col>&lt;dbl&gt;</th><th scope=col>&lt;int&gt;</th></tr>\n",
       "</thead>\n",
       "<tbody>\n",
       "\t<tr><td>East Hartford</td><td>Condo        </td><td>124937.7</td><td> 3000</td><td>4500000</td><td>2018.742</td><td>2017</td><td>2020</td><td> 314</td></tr>\n",
       "\t<tr><td>East Hartford</td><td>Single Family</td><td>162864.7</td><td> 1200</td><td> 420000</td><td>2018.509</td><td>2017</td><td>2020</td><td>2528</td></tr>\n",
       "\t<tr><td>East Hartford</td><td>Two Family   </td><td>180050.0</td><td>20000</td><td> 355000</td><td>2018.579</td><td>2017</td><td>2020</td><td> 216</td></tr>\n",
       "\t<tr><td>West Hartford</td><td>Condo        </td><td>234574.5</td><td> 9000</td><td>1625000</td><td>2018.600</td><td>2017</td><td>2020</td><td> 747</td></tr>\n",
       "\t<tr><td>West Hartford</td><td>Single Family</td><td>355614.3</td><td> 5000</td><td>1700000</td><td>2018.604</td><td>2017</td><td>2020</td><td>3665</td></tr>\n",
       "\t<tr><td>West Hartford</td><td>Two Family   </td><td>340705.5</td><td>77500</td><td> 565000</td><td>2018.686</td><td>2017</td><td>2020</td><td> 194</td></tr>\n",
       "</tbody>\n",
       "</table>\n"
      ],
      "text/latex": [
       "A grouped\\_df: 6 × 9\n",
       "\\begin{tabular}{lllllllll}\n",
       " town & residential\\_type & mean\\_sale\\_amount & min\\_sale\\_amount & max\\_sale\\_amount & mean\\_year & min\\_year & max\\_year & n\\\\\n",
       " <chr> & <chr> & <dbl> & <dbl> & <dbl> & <dbl> & <dbl> & <dbl> & <int>\\\\\n",
       "\\hline\n",
       "\t East Hartford & Condo         & 124937.7 &  3000 & 4500000 & 2018.742 & 2017 & 2020 &  314\\\\\n",
       "\t East Hartford & Single Family & 162864.7 &  1200 &  420000 & 2018.509 & 2017 & 2020 & 2528\\\\\n",
       "\t East Hartford & Two Family    & 180050.0 & 20000 &  355000 & 2018.579 & 2017 & 2020 &  216\\\\\n",
       "\t West Hartford & Condo         & 234574.5 &  9000 & 1625000 & 2018.600 & 2017 & 2020 &  747\\\\\n",
       "\t West Hartford & Single Family & 355614.3 &  5000 & 1700000 & 2018.604 & 2017 & 2020 & 3665\\\\\n",
       "\t West Hartford & Two Family    & 340705.5 & 77500 &  565000 & 2018.686 & 2017 & 2020 &  194\\\\\n",
       "\\end{tabular}\n"
      ],
      "text/markdown": [
       "\n",
       "A grouped_df: 6 × 9\n",
       "\n",
       "| town &lt;chr&gt; | residential_type &lt;chr&gt; | mean_sale_amount &lt;dbl&gt; | min_sale_amount &lt;dbl&gt; | max_sale_amount &lt;dbl&gt; | mean_year &lt;dbl&gt; | min_year &lt;dbl&gt; | max_year &lt;dbl&gt; | n &lt;int&gt; |\n",
       "|---|---|---|---|---|---|---|---|---|\n",
       "| East Hartford | Condo         | 124937.7 |  3000 | 4500000 | 2018.742 | 2017 | 2020 |  314 |\n",
       "| East Hartford | Single Family | 162864.7 |  1200 |  420000 | 2018.509 | 2017 | 2020 | 2528 |\n",
       "| East Hartford | Two Family    | 180050.0 | 20000 |  355000 | 2018.579 | 2017 | 2020 |  216 |\n",
       "| West Hartford | Condo         | 234574.5 |  9000 | 1625000 | 2018.600 | 2017 | 2020 |  747 |\n",
       "| West Hartford | Single Family | 355614.3 |  5000 | 1700000 | 2018.604 | 2017 | 2020 | 3665 |\n",
       "| West Hartford | Two Family    | 340705.5 | 77500 |  565000 | 2018.686 | 2017 | 2020 |  194 |\n",
       "\n"
      ],
      "text/plain": [
       "  town          residential_type mean_sale_amount min_sale_amount\n",
       "1 East Hartford Condo            124937.7          3000          \n",
       "2 East Hartford Single Family    162864.7          1200          \n",
       "3 East Hartford Two Family       180050.0         20000          \n",
       "4 West Hartford Condo            234574.5          9000          \n",
       "5 West Hartford Single Family    355614.3          5000          \n",
       "6 West Hartford Two Family       340705.5         77500          \n",
       "  max_sale_amount mean_year min_year max_year n   \n",
       "1 4500000         2018.742  2017     2020      314\n",
       "2  420000         2018.509  2017     2020     2528\n",
       "3  355000         2018.579  2017     2020      216\n",
       "4 1625000         2018.600  2017     2020      747\n",
       "5 1700000         2018.604  2017     2020     3665\n",
       "6  565000         2018.686  2017     2020      194"
      ]
     },
     "metadata": {},
     "output_type": "display_data"
    },
    {
     "data": {
      "text/html": [
       "<table class=\"dataframe\">\n",
       "<caption>A tibble: 2 × 4</caption>\n",
       "<thead>\n",
       "\t<tr><th scope=col>town</th><th scope=col>mean_sale_amount</th><th scope=col>median_year</th><th scope=col>n</th></tr>\n",
       "\t<tr><th scope=col>&lt;chr&gt;</th><th scope=col>&lt;dbl&gt;</th><th scope=col>&lt;dbl&gt;</th><th scope=col>&lt;int&gt;</th></tr>\n",
       "</thead>\n",
       "<tbody>\n",
       "\t<tr><td>East Hartford</td><td>160184.1</td><td>2019</td><td>3058</td></tr>\n",
       "\t<tr><td>West Hartford</td><td>335356.1</td><td>2019</td><td>4606</td></tr>\n",
       "</tbody>\n",
       "</table>\n"
      ],
      "text/latex": [
       "A tibble: 2 × 4\n",
       "\\begin{tabular}{llll}\n",
       " town & mean\\_sale\\_amount & median\\_year & n\\\\\n",
       " <chr> & <dbl> & <dbl> & <int>\\\\\n",
       "\\hline\n",
       "\t East Hartford & 160184.1 & 2019 & 3058\\\\\n",
       "\t West Hartford & 335356.1 & 2019 & 4606\\\\\n",
       "\\end{tabular}\n"
      ],
      "text/markdown": [
       "\n",
       "A tibble: 2 × 4\n",
       "\n",
       "| town &lt;chr&gt; | mean_sale_amount &lt;dbl&gt; | median_year &lt;dbl&gt; | n &lt;int&gt; |\n",
       "|---|---|---|---|\n",
       "| East Hartford | 160184.1 | 2019 | 3058 |\n",
       "| West Hartford | 335356.1 | 2019 | 4606 |\n",
       "\n"
      ],
      "text/plain": [
       "  town          mean_sale_amount median_year n   \n",
       "1 East Hartford 160184.1         2019        3058\n",
       "2 West Hartford 335356.1         2019        4606"
      ]
     },
     "metadata": {},
     "output_type": "display_data"
    }
   ],
   "source": [
    "# calculating some summary statistics about the population\n",
    "real_estate_final <- filtered_real_estate %>%\n",
    "    filter(residential_type == \"Condo\" | residential_type == \"Single Family\" | residential_type == \"Two Family\")\n",
    "\n",
    "stats <- real_estate_final %>%\n",
    "    group_by(town, residential_type) %>%\n",
    "    summarize(mean_sale_amount = mean(sale_amount), \n",
    "              min_sale_amount = min(sale_amount), \n",
    "              max_sale_amount = max(sale_amount), \n",
    "              mean_year = mean(list_year), \n",
    "              min_year = min(list_year), \n",
    "              max_year = max(list_year), \n",
    "              n = n())\n",
    "head(stats)\n",
    "\n",
    "# Generating simpler statistics regardless of residential type for preliminary analysis\n",
    "stats_simple <- real_estate_final %>%\n",
    "    group_by(town) %>%\n",
    "    summarize(mean_sale_amount = mean(sale_amount), median_year = median(list_year), n = n())\n",
    "\n",
    "head(stats_simple)"
   ]
  },
  {
   "cell_type": "markdown",
   "id": "347fea1e-85b8-428d-be46-50832d8a769d",
   "metadata": {
    "tags": []
   },
   "source": [
    "#### Making the relavent plots for East and West Hartford"
   ]
  },
  {
   "cell_type": "code",
   "execution_count": 6,
   "id": "c85cc8e9-7d8f-462b-94b5-1f8d6cc23bfd",
   "metadata": {
    "tags": []
   },
   "outputs": [],
   "source": [
    "# Making histogram of East Hartford\n",
    "options(repr.plot.width=15, repr.plot.height=6)\n",
    "east_data <- real_estate_final %>%\n",
    "    filter(town == \"East Hartford\") \n",
    "\n",
    "east_plot <- east_data%>%\n",
    "    ggplot() +\n",
    "    geom_histogram(aes(x = sale_amount), bins = 10000, color = \"green\") +\n",
    "    labs(x = \"Sale Amount ($)\", y = \"Frequency\", title = \"Distribution of East Hartford Sale Prices\") +\n",
    "    geom_vline(xintercept = 160184.1, colour=\"red\") + \n",
    "    xlim(0, 1000000) + \n",
    "    theme(text = element_text(size = 12))\n",
    "\n",
    "# Making histogram of West Hartford\n",
    "west_data <- real_estate_final %>%\n",
    "    filter(town == \"West Hartford\") \n",
    "\n",
    "west_plot <- west_data%>%\n",
    "    ggplot() +\n",
    "    geom_histogram(aes(x = sale_amount), bins = 10000, color = \"blue\") +\n",
    "    labs(x = \"Sale Amount ($)\", y = \"Frequency\", title = \"Distribution of West Hartford Sale Prices\") +\n",
    "    geom_vline(xintercept = 335356.1, colour=\"red\") + \n",
    "    xlim(0, 1000000) +\n",
    "    theme(text = element_text(size = 12))"
   ]
  },
  {
   "cell_type": "code",
   "execution_count": 7,
   "id": "de982bdb-7224-4e53-bb79-e8d1efa258ed",
   "metadata": {
    "tags": []
   },
   "outputs": [],
   "source": [
    "# separate the real_estate_final by residence types\n",
    "single_family <- real_estate_final |>\n",
    "    filter(residential_type == \"Single Family\")\n",
    "\n",
    "two_family <- real_estate_final |>\n",
    "    filter(residential_type == \"Two Family\") \n",
    "\n",
    "condo <- real_estate_final |>\n",
    "    filter(residential_type == \"Condo\")"
   ]
  },
  {
   "cell_type": "code",
   "execution_count": 8,
   "id": "1b4d7808-4662-4485-b4dd-33793b3383ac",
   "metadata": {
    "tags": []
   },
   "outputs": [],
   "source": [
    "# making boxplots for each residential type\n",
    "options(repr.plot.width=9, repr.plot.height=6)\n",
    "single_family_boxplot <- single_family |>\n",
    "    ggplot(aes(x = town, y = sale_amount, fill = town)) +\n",
    "        geom_boxplot() +\n",
    "        xlab(\"Town\") +\n",
    "        ylab(\"Sale amount ($)\") +\n",
    "        ggtitle(\"Boxplot for single family housing\") +\n",
    "        theme(text = element_text(size = 16)) +\n",
    "        scale_y_continuous(labels = comma) + \n",
    "        guides(fill = \"none\")\n",
    "\n",
    "two_family_boxplot <- two_family |>\n",
    "    ggplot(aes(x = town, y = sale_amount, fill = town)) +\n",
    "        geom_boxplot() +\n",
    "        xlab(\"Town\") +\n",
    "        ylab(\"Sale amount ($)\") +\n",
    "        ggtitle(\"Boxplot for two family housing\") +\n",
    "        theme(text = element_text(size = 16)) +\n",
    "        scale_y_continuous(labels = comma) + \n",
    "        guides(fill = \"none\")\n",
    "\n",
    "condo_boxplot <- condo |>\n",
    "    ggplot(aes(x = town, y = sale_amount, fill = town)) +\n",
    "        geom_boxplot() +\n",
    "        xlab(\"Town\") +\n",
    "        ylab(\"Sale amount ($)\") +\n",
    "        ggtitle(\"Boxplot for condo housing\") +\n",
    "        theme(text = element_text(size = 16)) +\n",
    "        scale_y_continuous(labels = comma) + \n",
    "        guides(fill = \"none\")"
   ]
  },
  {
   "cell_type": "markdown",
   "id": "cec81fbf-88cf-4911-aabc-840e87295b86",
   "metadata": {},
   "source": [
    "#### Displaying the plots"
   ]
  },
  {
   "cell_type": "code",
   "execution_count": null,
   "id": "26e3ec23-c998-4658-8529-2e7dac9e66b8",
   "metadata": {
    "tags": []
   },
   "outputs": [],
   "source": [
    "# Displaying the histograms\n",
    "# Because of the kernal constantly dying when trying to run these cells, we are loading in a PNG of the histogram (this is the exact same histogram the code would of loaded)\n",
    "\n",
    "# options(warn= -1)\n",
    "# (east_plot | west_plot)\n"
   ]
  },
  {
   "attachments": {
    "502ff580-cff7-4dbf-ae9d-23cbcdc923a4.PNG": {
     "image/png": "[encoded data removed]"
    },
    "7ab345e7-fc82-4026-8a50-b4a72fa32fa1.PNG": {
     "image/png": "[encoded data removed]"
    }
   },
   "cell_type": "markdown",
   "id": "4862084c-9158-40dc-be7a-047875cb04f4",
   "metadata": {},
   "source": [
    "### Distribution of East Hartford Sale Prices\n",
    "\n",
    "\n",
    "![east.PNG](attachment:502ff580-cff7-4dbf-ae9d-23cbcdc923a4.PNG)\n",
    "\n",
    "\n",
    "### Distribution of West Hartford Sale Prices\n",
    "\n",
    "\n",
    "![west.PNG](attachment:7ab345e7-fc82-4026-8a50-b4a72fa32fa1.PNG)"
   ]
  },
  {
   "cell_type": "code",
   "execution_count": null,
   "id": "4b1d85dd-0b4b-465d-9991-5dbb8505acb8",
   "metadata": {
    "tags": []
   },
   "outputs": [],
   "source": [
    "# Displaying the boxplots\n",
    "\n",
    "(single_family_boxplot | two_family_boxplot | condo_boxplot)"
   ]
  },
  {
   "cell_type": "markdown",
   "id": "2f38eb5a-dbc9-4e5d-b4f6-f27b832cc74d",
   "metadata": {},
   "source": [
    "Just looking at the boxplots and histograms it is clear there are a few outliers in our data when it comes to the sale price. To prevent this we will be filtering our sale amounts to get rid of sales that occur above $Q3 + 3*IQ$ and below $Q1 - 3*IQ$ for each respective housing type and then replotting it to get a better idea of how our data looks."
   ]
  },
  {
   "cell_type": "code",
   "execution_count": null,
   "id": "93c6b1f1-239c-4296-8825-497ede7dce9f",
   "metadata": {
    "tags": []
   },
   "outputs": [],
   "source": [
    "# Filtering out the outliers and making the new boxplots\n",
    "\n",
    "options(repr.plot.width=18, repr.plot.height=6)\n",
    "Q_single <- quantile(single_family$sale_amount, probs = c(0.25, 0.75), na.rm = FALSE)\n",
    "iqr_single <- IQR(single_family$sale_amount)\n",
    "single_no_outlier <- subset(single_family, single_family$sale_amount > (Q_single[1]-1.5*iqr_single) & single_family$sale_amount < (Q_single[2]+1.5*iqr_single))\n",
    "\n",
    "single_family_boxplot_no_outlier <- single_no_outlier |>\n",
    "    ggplot(aes(x = town, y = sale_amount, fill = town)) +\n",
    "        geom_boxplot() +\n",
    "        xlab(\"Town\") +\n",
    "        ylab(\"Sale amount ($)\") +\n",
    "        ggtitle(\"Boxplot for single family housing\") +\n",
    "        theme(text = element_text(size = 16)) +\n",
    "        scale_y_continuous(labels = comma) + \n",
    "        guides(fill = \"none\")\n",
    "\n",
    "Q_two <- quantile(two_family$sale_amount, probs = c(0.25, 0.75), na.rm = FALSE)\n",
    "iqr_two <- IQR(two_family$sale_amount)\n",
    "two_no_outlier <- subset(two_family, two_family$sale_amount > (Q_two[1]-1.5*iqr_two) & two_family$sale_amount < (Q_two[2]+1.5*iqr_two))\n",
    "\n",
    "two_family_boxplot_no_outlier <- two_no_outlier |>\n",
    "    ggplot(aes(x = town, y = sale_amount, fill = town)) +\n",
    "        geom_boxplot() +\n",
    "        xlab(\"Town\") +\n",
    "        ylab(\"Sale amount ($)\") +\n",
    "        ggtitle(\"Boxplot for two family housing\") +\n",
    "        theme(text = element_text(size = 16)) +\n",
    "        scale_y_continuous(labels = comma) + \n",
    "        guides(fill = \"none\")\n",
    "\n",
    "Q_condo <- quantile(condo$sale_amount, probs = c(0.25, 0.75), na.rm = FALSE)\n",
    "iqr_condo <- IQR(condo$sale_amount)\n",
    "condo_no_outlier <- subset(condo, condo$sale_amount > (Q_condo[1]-1.5*iqr_condo) & condo$sale_amount < (Q_condo[2]+1.5*iqr_condo))\n",
    "\n",
    "condo_boxplot_no_outlier <- condo_no_outlier |>\n",
    "    ggplot(aes(x = town, y = sale_amount, fill = town)) +\n",
    "        geom_boxplot() +\n",
    "        xlab(\"Town\") +\n",
    "        ylab(\"Sale amount ($)\") +\n",
    "        ggtitle(\"Boxplot for condo housing\") +\n",
    "        theme(text = element_text(size = 16)) +\n",
    "        scale_y_continuous(labels = comma) + \n",
    "        guides(fill = \"none\")"
   ]
  },
  {
   "cell_type": "code",
   "execution_count": null,
   "id": "618f5728-e02d-4565-95ac-9dcff9390588",
   "metadata": {
    "tags": []
   },
   "outputs": [],
   "source": [
    "# Displaying the new boxplots with no outliers\n",
    "\n",
    "(single_family_boxplot_no_outlier | two_family_boxplot_no_outlier | condo_boxplot_no_outlier)"
   ]
  },
  {
   "cell_type": "markdown",
   "id": "9e6667fc-8622-4931-a55b-c2003195660d",
   "metadata": {
    "tags": []
   },
   "source": [
    "### Preliminary Analysis\n",
    "After looking at the mean sale price and plots for East and West Hartford, while we see that West Hartford does seem to have a higher mean, it may not be enough to immediately assume that West Hartford always has a higher mean in housing sales price. Especially when it comes to bigger numbers such as the amount of money required to buy a house, it is better to be statistically sure of your analysis rather than just taking a single snapshot as the whole picture for granted. Especially because we cannot be sure with the outliers that are in the sample.\n"
   ]
  },
  {
   "cell_type": "markdown",
   "id": "c47ab974-993b-4ab4-83f2-fdcbb344bc58",
   "metadata": {},
   "source": [
    "## Methods: Plan"
   ]
  },
  {
   "cell_type": "markdown",
   "id": "583ea2ce-22f2-4894-bd80-b0a2450b8283",
   "metadata": {},
   "source": [
    "Hypothesis: Since both East and West Hartford both reside within Hartford we expect the median sale price of each half of the city to be the same. We will be testing this theory for the 3 most popular residential types of housing within Hartford, condos, single family houses, and two family houses. \n",
    "\n",
    "In other words: \n",
    "Let Se be the median sales price of housing in East Hartford and let Sw be the median sales price of housing in West Hartford.  Our null hypothesis $H_0: Se - Sw = 0$ versus $H_A: Se - Sw \\neq 0$.\n",
    "\n",
    "We will be testing our hypothesis at a $\\alpha = 0.001$ significance level. Which means if our P-value does not fall below 0.001, we would fail to reject $H_0$. The reason for picking such a low value of $\\alpha$ is because just from our preliminary data exploratory analysis, we can already see Hartford has on average a higher sale price. That way if we were to accept $H_0$ we would be more sure that we are unlikely to make a type 1 error.\n",
    "\n",
    "In order to calculate our P-value we will use both bootstrapping and reshuffling to generate more copies of the sample in order to calculate P on. After generating our samples we will calculate the required summary statistics in our case being the difference in median sales price. This gives us our null distribution of which we can plot, or go straight into calculating P with. This will be done using the infer package. After we get our P value we can either reject or accept the null hypothesis depending if it's above or under our 0.001 significance level.\n"
   ]
  },
  {
   "cell_type": "markdown",
   "id": "d645ee8a-c3b0-4bd9-8c1d-2ffb2c3a6663",
   "metadata": {},
   "source": [
    "## Perform hypothesis testing via permutation"
   ]
  },
  {
   "cell_type": "markdown",
   "id": "20166e19-46bf-41a7-a5f9-06cb5d14b785",
   "metadata": {},
   "source": [
    "As seen above our boxplot visualizes that East Hartford and West Hartford sale prices are different. To further investigate this we will now conduct our hypothesis test comparing mean sale prices.\n",
    "$H_0: Se - Sw = 0$ \n",
    "\n",
    "$H_A: Se - Sw \\neq 0$."
   ]
  },
  {
   "cell_type": "code",
   "execution_count": null,
   "id": "4b494847-2978-4c6c-bc13-0f5f7bcf8de0",
   "metadata": {
    "tags": []
   },
   "outputs": [],
   "source": [
    "# Firstly, we obtain our test statistic \n",
    "obs_diff_in_means <- real_estate_final |>\n",
    "specify(formula =  sale_amount ~ town) |>\n",
    "calculate(stat=\"diff in means\", order = c(\"East Hartford\", \"West Hartford\"))\n",
    "\n",
    "obs_diff_in_means"
   ]
  },
  {
   "cell_type": "code",
   "execution_count": null,
   "id": "d1ee7944-756f-4e1c-92eb-2246886f41a3",
   "metadata": {
    "tags": []
   },
   "outputs": [],
   "source": [
    "# Now let's create our null distribution\n",
    "null_diff_in_means <-\n",
    "real_estate_final %>% \n",
    "    specify(formula = sale_amount ~ town) %>% \n",
    "    hypothesize(null = \"independence\") %>% \n",
    "    generate(reps = 1000, type = \"permute\") %>% \n",
    "    calculate(stat=\"diff in means\", order = c(\"East Hartford\", \"West Hartford\"))\n",
    "\n",
    "# We will now visualize our null distribution with our test statistic\n",
    "diff_in_means_plot <- null_diff_in_means %>%\n",
    "    visualize(bins = 10) + \n",
    "    shade_p_value(obs_stat = obs_diff_in_means, direction = \"both\") + \n",
    "    xlab(\"Difference in means\")\n",
    "\n",
    "diff_in_means_plot"
   ]
  },
  {
   "cell_type": "markdown",
   "id": "7f258040-79b8-4054-bafe-43c84c0508e5",
   "metadata": {},
   "source": [
    "From our plot we observe our test statistic is highly unlikely under the null hypothesis. This indicates we are likely to have a low p-value, very close to or equal to zero."
   ]
  },
  {
   "cell_type": "code",
   "execution_count": null,
   "id": "fd39a1e7-e644-4e2c-beb5-a08aa53ebb69",
   "metadata": {
    "tags": []
   },
   "outputs": [],
   "source": [
    "# And finally obtain the p-value\n",
    "p_value <- null_diff_in_means |>\n",
    "get_p_value(obs_stat = obs_diff_in_means, direction = \"both\")\n",
    "\n",
    "p_value"
   ]
  },
  {
   "cell_type": "markdown",
   "id": "dfd3e7df-f5e2-4a0a-be5a-9976a672662b",
   "metadata": {},
   "source": [
    "From our visulization we saw that our test statistic is very unlikely under the null model. This unlikelihood is further conveyed by our low $p$-value, which prompts us to reject the our null hypothesis, that there is no differnce between mean sale prices of properties in East Hartford and West Hartford, at a 5% significance level. Rejecting the null hypothesis puts us at risk of committing a type I error. After rejecting the null hypothesis a type I error would occur if and only if the true difference of between mean sale amounts in East Hartford and West Hartford is zero."
   ]
  },
  {
   "cell_type": "markdown",
   "id": "07c1435e-9712-4e13-b9ec-9285238308c3",
   "metadata": {},
   "source": [
    "Now let's create a 95% cofidence interval for the true differnce in mean sale prices between East Hartford and West Hartford"
   ]
  },
  {
   "cell_type": "markdown",
   "id": "406df737-9869-4f85-8c05-87ade21cdb61",
   "metadata": {},
   "source": [
    "## Obtain a 95% confidence interval (Bootstrap approach)"
   ]
  },
  {
   "cell_type": "code",
   "execution_count": null,
   "id": "2e3a3753-1b87-4b3c-b975-4ffed34a9595",
   "metadata": {
    "tags": []
   },
   "outputs": [],
   "source": [
    "# obtain 95% confidence interval using bootstrapping\n",
    "diff_in_means_bootstrap_dist <- real_estate_final |>\n",
    "specify(formula = sale_amount ~ town) |>\n",
    "generate(type = \"bootstrap\", reps = 1000) |>\n",
    "calculate(stat = \"diff in means\", order = c(\"East Hartford\", \"West Hartford\"))\n",
    "\n",
    "diff_in_means_ci <- diff_in_means_bootstrap_dist |>\n",
    "get_confidence_interval( level = 0.95, type = \"percentile\")\n",
    "\n",
    "\n",
    "diff_in_means_ci"
   ]
  },
  {
   "cell_type": "markdown",
   "id": "0c3c5325-3101-4429-8f90-ec05fa43b820",
   "metadata": {},
   "source": [
    "From our bootstrapped confidence interval we are 95% confident that the true differnce in mean sale prices between East Hartford and West Hartford is between -181117.4 and -168796.8"
   ]
  },
  {
   "cell_type": "markdown",
   "id": "03c4e43d-b460-47da-8bd0-2549c020fad9",
   "metadata": {
    "tags": []
   },
   "source": [
    "Let's now compare these results to a theory based approach. For our theory based approach we will be conducting a two sampled t test, to do this we need to apply CLT. We can apply CLT as we have a large enough sample size (n = ??), our sample is randomly drawn from the population and our sample values our independent."
   ]
  },
  {
   "cell_type": "markdown",
   "id": "eafc8396-f79b-403e-bd56-d19fabd5a3ff",
   "metadata": {},
   "source": [
    "## Two sampled t test"
   ]
  },
  {
   "cell_type": "code",
   "execution_count": null,
   "id": "b11a8ef5-d308-4dcc-9f74-bb76f1f7d912",
   "metadata": {
    "tags": []
   },
   "outputs": [],
   "source": [
    "# We will be conducting our t test using t.test from the tidy package\n",
    "sampling_dist_means <- real_estate_final |>\n",
    "rep_sample_n(reps = 10000, size = 7) |>\n",
    "group_by(replicate) |>\n",
    "summarise(town = town,\n",
    "    sale_mean = mean(sale_amount))\n",
    "\n",
    "east <- sampling_dist_means |>\n",
    "filter(town == \"East Hartford\")\n",
    "west <- sampling_dist_means |>\n",
    "filter(town == \"West Hartford\")\n",
    "\n",
    "t_test <- \n",
    "    tidy(\n",
    "        t.test(x = east$sale_mean,\n",
    "               y = west$sale_mean,\n",
    "               alternative = \"two.sided\")) "
   ]
  },
  {
   "cell_type": "code",
   "execution_count": null,
   "id": "7f766a3a-70d9-4b8f-a30b-d2065c00fcbc",
   "metadata": {},
   "outputs": [],
   "source": [
    "# Let's obtain our p-value from our t test\n",
    "t_test$p.value"
   ]
  },
  {
   "cell_type": "markdown",
   "id": "712908e9-df89-4bbd-ade3-ed3e7515fab1",
   "metadata": {},
   "source": [
    "We observe that our $p$-value obtained from our t test is the same as the p value obtained earlier. Now let's compare our confidence intervals."
   ]
  },
  {
   "cell_type": "code",
   "execution_count": null,
   "id": "2c0253ba-033a-4788-bed0-db99dbf96719",
   "metadata": {},
   "outputs": [],
   "source": [
    "confidence_interval <- data.frame(ci_lower = t_test$conf.low, ci_upper = t_test$conf.high)\n",
    "confidence_interval"
   ]
  },
  {
   "cell_type": "markdown",
   "id": "04601a34-b027-4bc7-a953-d9e7268b5ffd",
   "metadata": {
    "tags": []
   },
   "source": [
    "Our 95% confidence intervals are quite different, we can observe that our t test confidence interval is more narrow. This could be a result of our original sample in our bootstrapping approach, since we were generating bootstrapped samples from such a large sample it would make sense that there is a lot of variability between bootstrapped samples hence our confidence interval is wider."
   ]
  },
  {
   "cell_type": "markdown",
   "id": "45f5b880-bc13-4510-ae30-762e9afa52a5",
   "metadata": {
    "tags": []
   },
   "source": [
    "In context of our question it appears the t test is better than the other as it's confidence interval is much narrower, implying that it is \"more confident.\" However applying CLT is not very efficent as it required us to generate the sampling distribution which is not always plausible in real life. Furthermore, using CLT requires assumption of our data, whereas bootstrapping does not. However, from our results we can observe how much our values were influenced by our original sample in bootstrapping. This could be an major issue in bootstrapping. If an original sample is not representative of the population, then bootstrapping will provide inaccurate results. Overall we believe both methods are equally as trustworthy in the right situations. However we have that one method may be 'better' than the other in different contexes."
   ]
  },
  {
   "cell_type": "markdown",
   "id": "115d4951-4b98-403a-bcb8-e06fa500deb8",
   "metadata": {},
   "source": [
    "## References"
   ]
  },
  {
   "cell_type": "markdown",
   "id": "79b3a941-6aaf-4d78-be2b-92587d3e9b6c",
   "metadata": {},
   "source": [
    "Real Estate Sales 2001-2020 GL. data.ct.gov, 9 Aug. 2023. Data.gov, \n",
    "\n",
    "    https://catalog.data.gov/dataset/real-estate-sales-2001-2018.\n",
    "Real Estate Agents As a Source of Information for Home Buyers - HOUSTON - 1977 - Journal of Consumer Affairs - Wiley Online Library. \n",
    "\n",
    "    https://onlinelibrary.wiley.com/doi/abs/10.1111/j.1745-6606.1977.tb00600.x. \n",
    "    \n",
    "    Accessed 4 Nov. 2023.\n",
    "    \n",
    "Harnaga, Brandon J. Another Housing Bubble? A Review of Historical Indicators and Analysis of the Current State of the U.S. Residential Real Estate Market. May 2021. soar.suny.edu, \n",
    "    \n",
    "    https://soar.suny.edu/handle/20.500.12648/1885.\n"
   ]
  },
  {
   "cell_type": "code",
   "execution_count": null,
   "id": "56fd1e6a-f0ca-4a00-93b3-02eb3528f0a9",
   "metadata": {},
   "outputs": [],
   "source": []
  }
 ],
 "metadata": {
  "kernelspec": {
   "display_name": "R",
   "language": "R",
   "name": "ir"
  },
  "language_info": {
   "codemirror_mode": "r",
   "file_extension": ".r",
   "mimetype": "text/x-r-source",
   "name": "R",
   "pygments_lexer": "r",
   "version": "4.2.3"
  }
 },
 "nbformat": 4,
 "nbformat_minor": 5
}
